{
  "nbformat": 4,
  "nbformat_minor": 0,
  "metadata": {
    "colab": {
      "provenance": [],
      "authorship_tag": "ABX9TyPBouiCBCmNYrPLJvf5IEn5",
      "include_colab_link": true
    },
    "kernelspec": {
      "name": "python3",
      "display_name": "Python 3"
    },
    "language_info": {
      "name": "python"
    }
  },
  "cells": [
    {
      "cell_type": "markdown",
      "metadata": {
        "id": "view-in-github",
        "colab_type": "text"
      },
      "source": [
        "<a href=\"https://colab.research.google.com/github/Whiteomi/Hola_Mundo/blob/main/Hola_Mundo.ipynb\" target=\"_parent\"><img src=\"https://colab.research.google.com/assets/colab-badge.svg\" alt=\"Open In Colab\"/></a>"
      ]
    },
    {
      "cell_type": "code",
      "execution_count": 5,
      "metadata": {
        "id": "U675-gP3gpCG"
      },
      "outputs": [],
      "source": [
        "#Importamos librerias requeridad \n",
        "import pandas as pd \n",
        "import numpy as np \n",
        "import matplotlib.pyplot as  plt\n",
        "import seaborn as sns"
      ]
    },
    {
      "cell_type": "code",
      "source": [
        "#Cargar archivo csv desde seaborn\n",
        "df=sns.load_dataset(name='car_crashes')"
      ],
      "metadata": {
        "id": "EVdIjWqRivNK"
      },
      "execution_count": 6,
      "outputs": []
    },
    {
      "cell_type": "code",
      "source": [
        "#Imprimimos las primeras filas o registramos el Dataframe\n",
        "df.head(5)"
      ],
      "metadata": {
        "id": "TV7_3qjSjIQw"
      },
      "execution_count": null,
      "outputs": []
    },
    {
      "cell_type": "code",
      "source": [
        "#Imprimimos las ultimas filas o registros del Dataframe \n",
        "df.tail(5)"
      ],
      "metadata": {
        "id": "E_DGdM3ukHcM"
      },
      "execution_count": null,
      "outputs": []
    },
    {
      "cell_type": "code",
      "source": [
        "df.info"
      ],
      "metadata": {
        "id": "nD6qnAz_kcBc"
      },
      "execution_count": null,
      "outputs": []
    }
  ]
}